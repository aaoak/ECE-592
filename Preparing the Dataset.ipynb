{
 "cells": [
  {
   "cell_type": "code",
   "execution_count": 1,
   "id": "cf35d77a",
   "metadata": {},
   "outputs": [],
   "source": [
    "import pandas as pd\n",
    "import os"
   ]
  },
  {
   "cell_type": "code",
   "execution_count": 2,
   "id": "6ac26380",
   "metadata": {},
   "outputs": [
    {
     "data": {
      "text/html": [
       "<div>\n",
       "<style scoped>\n",
       "    .dataframe tbody tr th:only-of-type {\n",
       "        vertical-align: middle;\n",
       "    }\n",
       "\n",
       "    .dataframe tbody tr th {\n",
       "        vertical-align: top;\n",
       "    }\n",
       "\n",
       "    .dataframe thead th {\n",
       "        text-align: right;\n",
       "    }\n",
       "</style>\n",
       "<table border=\"1\" class=\"dataframe\">\n",
       "  <thead>\n",
       "    <tr style=\"text-align: right;\">\n",
       "      <th></th>\n",
       "    </tr>\n",
       "  </thead>\n",
       "  <tbody>\n",
       "  </tbody>\n",
       "</table>\n",
       "</div>"
      ],
      "text/plain": [
       "Empty DataFrame\n",
       "Columns: []\n",
       "Index: []"
      ]
     },
     "execution_count": 2,
     "metadata": {},
     "output_type": "execute_result"
    }
   ],
   "source": [
    "data = pd.DataFrame({})\n",
    "data"
   ]
  },
  {
   "cell_type": "code",
   "execution_count": 5,
   "id": "004e11bd",
   "metadata": {},
   "outputs": [],
   "source": [
    "path = './data/'"
   ]
  },
  {
   "cell_type": "code",
   "execution_count": 6,
   "id": "8de008e7",
   "metadata": {},
   "outputs": [],
   "source": [
    "combine = [pd.read_csv(path + i) for i in os.listdir(path)]"
   ]
  },
  {
   "cell_type": "code",
   "execution_count": 7,
   "id": "1ddf2a39",
   "metadata": {},
   "outputs": [
    {
     "name": "stdout",
     "output_type": "stream",
     "text": [
      "       Unnamed: 0                                               text  \\\n",
      "0               0  Create a function to calculate the sum of a se...   \n",
      "1               1  Generate a Python code for crawling a website ...   \n",
      "2               2  Create a Python list comprehension to get the ...   \n",
      "3               3   Generate a python script to perform this action.   \n",
      "4               4  Write a python script to generates random numb...   \n",
      "...           ...                                                ...   \n",
      "18607       18607  Generate a loop in Python which iterates throu...   \n",
      "18608       18608  Can you design a function in Python to sort a ...   \n",
      "18609       18609  Generate a Python function to search an array ...   \n",
      "18610       18610  Develop an HTTP API in Python to retrieve the ...   \n",
      "18611       18611  Create a classification algorithm in Python to...   \n",
      "\n",
      "                                                    code  \n",
      "0      # Python code\\ndef sum_sequence(sequence):\\n  ...  \n",
      "1      import requests\\nimport re\\n\\ndef crawl_websit...  \n",
      "2                     [x*x for x in [1, 2, 3, 5, 8, 13]]  \n",
      "3      def remove_duplicates(string): \\n    result = ...  \n",
      "4      def generate_random_divisible_number():\\n    i...  \n",
      "...                                                  ...  \n",
      "18607     for value in list_of_values:\\n    print(value)  \n",
      "18608  def sort_tuple(tuples):\\n    # sort by 2nd ite...  \n",
      "18609  def search(array, target):\\n # Iterate over ar...  \n",
      "18610  import requests\\nfrom bs4 import BeautifulSoup...  \n",
      "18611  # Import Python libraries\\nimport numpy as np\\...  \n",
      "\n",
      "[18612 rows x 3 columns]\n"
     ]
    }
   ],
   "source": [
    "print(combine[0])"
   ]
  },
  {
   "cell_type": "code",
   "execution_count": 8,
   "id": "80220c5b",
   "metadata": {},
   "outputs": [
    {
     "data": {
      "text/html": [
       "<div>\n",
       "<style scoped>\n",
       "    .dataframe tbody tr th:only-of-type {\n",
       "        vertical-align: middle;\n",
       "    }\n",
       "\n",
       "    .dataframe tbody tr th {\n",
       "        vertical-align: top;\n",
       "    }\n",
       "\n",
       "    .dataframe thead th {\n",
       "        text-align: right;\n",
       "    }\n",
       "</style>\n",
       "<table border=\"1\" class=\"dataframe\">\n",
       "  <thead>\n",
       "    <tr style=\"text-align: right;\">\n",
       "      <th></th>\n",
       "      <th>Unnamed: 0</th>\n",
       "      <th>text</th>\n",
       "      <th>code</th>\n",
       "    </tr>\n",
       "  </thead>\n",
       "  <tbody>\n",
       "    <tr>\n",
       "      <th>0</th>\n",
       "      <td>0</td>\n",
       "      <td>Create a function to calculate the sum of a se...</td>\n",
       "      <td># Python code\\ndef sum_sequence(sequence):\\n  ...</td>\n",
       "    </tr>\n",
       "    <tr>\n",
       "      <th>1</th>\n",
       "      <td>1</td>\n",
       "      <td>Generate a Python code for crawling a website ...</td>\n",
       "      <td>import requests\\nimport re\\n\\ndef crawl_websit...</td>\n",
       "    </tr>\n",
       "    <tr>\n",
       "      <th>2</th>\n",
       "      <td>2</td>\n",
       "      <td>Create a Python list comprehension to get the ...</td>\n",
       "      <td>[x*x for x in [1, 2, 3, 5, 8, 13]]</td>\n",
       "    </tr>\n",
       "    <tr>\n",
       "      <th>3</th>\n",
       "      <td>3</td>\n",
       "      <td>Generate a python script to perform this action.</td>\n",
       "      <td>def remove_duplicates(string): \\n    result = ...</td>\n",
       "    </tr>\n",
       "    <tr>\n",
       "      <th>4</th>\n",
       "      <td>4</td>\n",
       "      <td>Write a python script to generates random numb...</td>\n",
       "      <td>def generate_random_divisible_number():\\n    i...</td>\n",
       "    </tr>\n",
       "    <tr>\n",
       "      <th>...</th>\n",
       "      <td>...</td>\n",
       "      <td>...</td>\n",
       "      <td>...</td>\n",
       "    </tr>\n",
       "    <tr>\n",
       "      <th>81202</th>\n",
       "      <td>81202</td>\n",
       "      <td>If it gives less count then update it</td>\n",
       "      <td>if ( arr [ i ] &gt; arr [ i - k * k ] + 1 ) : NEW...</td>\n",
       "    </tr>\n",
       "    <tr>\n",
       "      <th>81203</th>\n",
       "      <td>81203</td>\n",
       "      <td>v stores optimum square number whose sum give N</td>\n",
       "      <td>while ( n &gt; 0 ) : NEW_LINE INDENT v . append (...</td>\n",
       "    </tr>\n",
       "    <tr>\n",
       "      <th>81204</th>\n",
       "      <td>81204</td>\n",
       "      <td>Driver code</td>\n",
       "      <td>n = 10 NEW_LINE</td>\n",
       "    </tr>\n",
       "    <tr>\n",
       "      <th>81205</th>\n",
       "      <td>81205</td>\n",
       "      <td>Calling function</td>\n",
       "      <td>v = minSqrNum ( n ) NEW_LINE</td>\n",
       "    </tr>\n",
       "    <tr>\n",
       "      <th>81206</th>\n",
       "      <td>81206</td>\n",
       "      <td>Printing vector</td>\n",
       "      <td>for i in range ( len ( v ) ) : NEW_LINE INDENT...</td>\n",
       "    </tr>\n",
       "  </tbody>\n",
       "</table>\n",
       "<p>848048 rows × 3 columns</p>\n",
       "</div>"
      ],
      "text/plain": [
       "       Unnamed: 0                                               text  \\\n",
       "0               0  Create a function to calculate the sum of a se...   \n",
       "1               1  Generate a Python code for crawling a website ...   \n",
       "2               2  Create a Python list comprehension to get the ...   \n",
       "3               3   Generate a python script to perform this action.   \n",
       "4               4  Write a python script to generates random numb...   \n",
       "...           ...                                                ...   \n",
       "81202       81202              If it gives less count then update it   \n",
       "81203       81203    v stores optimum square number whose sum give N   \n",
       "81204       81204                                        Driver code   \n",
       "81205       81205                                   Calling function   \n",
       "81206       81206                                    Printing vector   \n",
       "\n",
       "                                                    code  \n",
       "0      # Python code\\ndef sum_sequence(sequence):\\n  ...  \n",
       "1      import requests\\nimport re\\n\\ndef crawl_websit...  \n",
       "2                     [x*x for x in [1, 2, 3, 5, 8, 13]]  \n",
       "3      def remove_duplicates(string): \\n    result = ...  \n",
       "4      def generate_random_divisible_number():\\n    i...  \n",
       "...                                                  ...  \n",
       "81202  if ( arr [ i ] > arr [ i - k * k ] + 1 ) : NEW...  \n",
       "81203  while ( n > 0 ) : NEW_LINE INDENT v . append (...  \n",
       "81204                                    n = 10 NEW_LINE  \n",
       "81205                       v = minSqrNum ( n ) NEW_LINE  \n",
       "81206  for i in range ( len ( v ) ) : NEW_LINE INDENT...  \n",
       "\n",
       "[848048 rows x 3 columns]"
      ]
     },
     "execution_count": 8,
     "metadata": {},
     "output_type": "execute_result"
    }
   ],
   "source": [
    "data = pd.concat(combine)\n",
    "data"
   ]
  },
  {
   "cell_type": "code",
   "execution_count": 11,
   "id": "f1870496",
   "metadata": {},
   "outputs": [
    {
     "data": {
      "text/html": [
       "<div>\n",
       "<style scoped>\n",
       "    .dataframe tbody tr th:only-of-type {\n",
       "        vertical-align: middle;\n",
       "    }\n",
       "\n",
       "    .dataframe tbody tr th {\n",
       "        vertical-align: top;\n",
       "    }\n",
       "\n",
       "    .dataframe thead th {\n",
       "        text-align: right;\n",
       "    }\n",
       "</style>\n",
       "<table border=\"1\" class=\"dataframe\">\n",
       "  <thead>\n",
       "    <tr style=\"text-align: right;\">\n",
       "      <th></th>\n",
       "      <th>text</th>\n",
       "      <th>code</th>\n",
       "    </tr>\n",
       "  </thead>\n",
       "  <tbody>\n",
       "    <tr>\n",
       "      <th>0</th>\n",
       "      <td>Create a function to calculate the sum of a se...</td>\n",
       "      <td># Python code\\ndef sum_sequence(sequence):\\n  ...</td>\n",
       "    </tr>\n",
       "    <tr>\n",
       "      <th>1</th>\n",
       "      <td>Generate a Python code for crawling a website ...</td>\n",
       "      <td>import requests\\nimport re\\n\\ndef crawl_websit...</td>\n",
       "    </tr>\n",
       "    <tr>\n",
       "      <th>2</th>\n",
       "      <td>Create a Python list comprehension to get the ...</td>\n",
       "      <td>[x*x for x in [1, 2, 3, 5, 8, 13]]</td>\n",
       "    </tr>\n",
       "    <tr>\n",
       "      <th>3</th>\n",
       "      <td>Generate a python script to perform this action.</td>\n",
       "      <td>def remove_duplicates(string): \\n    result = ...</td>\n",
       "    </tr>\n",
       "    <tr>\n",
       "      <th>4</th>\n",
       "      <td>Write a python script to generates random numb...</td>\n",
       "      <td>def generate_random_divisible_number():\\n    i...</td>\n",
       "    </tr>\n",
       "    <tr>\n",
       "      <th>...</th>\n",
       "      <td>...</td>\n",
       "      <td>...</td>\n",
       "    </tr>\n",
       "    <tr>\n",
       "      <th>81202</th>\n",
       "      <td>If it gives less count then update it</td>\n",
       "      <td>if ( arr [ i ] &gt; arr [ i - k * k ] + 1 ) : NEW...</td>\n",
       "    </tr>\n",
       "    <tr>\n",
       "      <th>81203</th>\n",
       "      <td>v stores optimum square number whose sum give N</td>\n",
       "      <td>while ( n &gt; 0 ) : NEW_LINE INDENT v . append (...</td>\n",
       "    </tr>\n",
       "    <tr>\n",
       "      <th>81204</th>\n",
       "      <td>Driver code</td>\n",
       "      <td>n = 10 NEW_LINE</td>\n",
       "    </tr>\n",
       "    <tr>\n",
       "      <th>81205</th>\n",
       "      <td>Calling function</td>\n",
       "      <td>v = minSqrNum ( n ) NEW_LINE</td>\n",
       "    </tr>\n",
       "    <tr>\n",
       "      <th>81206</th>\n",
       "      <td>Printing vector</td>\n",
       "      <td>for i in range ( len ( v ) ) : NEW_LINE INDENT...</td>\n",
       "    </tr>\n",
       "  </tbody>\n",
       "</table>\n",
       "<p>848048 rows × 2 columns</p>\n",
       "</div>"
      ],
      "text/plain": [
       "                                                    text  \\\n",
       "0      Create a function to calculate the sum of a se...   \n",
       "1      Generate a Python code for crawling a website ...   \n",
       "2      Create a Python list comprehension to get the ...   \n",
       "3       Generate a python script to perform this action.   \n",
       "4      Write a python script to generates random numb...   \n",
       "...                                                  ...   \n",
       "81202              If it gives less count then update it   \n",
       "81203    v stores optimum square number whose sum give N   \n",
       "81204                                        Driver code   \n",
       "81205                                   Calling function   \n",
       "81206                                    Printing vector   \n",
       "\n",
       "                                                    code  \n",
       "0      # Python code\\ndef sum_sequence(sequence):\\n  ...  \n",
       "1      import requests\\nimport re\\n\\ndef crawl_websit...  \n",
       "2                     [x*x for x in [1, 2, 3, 5, 8, 13]]  \n",
       "3      def remove_duplicates(string): \\n    result = ...  \n",
       "4      def generate_random_divisible_number():\\n    i...  \n",
       "...                                                  ...  \n",
       "81202  if ( arr [ i ] > arr [ i - k * k ] + 1 ) : NEW...  \n",
       "81203  while ( n > 0 ) : NEW_LINE INDENT v . append (...  \n",
       "81204                                    n = 10 NEW_LINE  \n",
       "81205                       v = minSqrNum ( n ) NEW_LINE  \n",
       "81206  for i in range ( len ( v ) ) : NEW_LINE INDENT...  \n",
       "\n",
       "[848048 rows x 2 columns]"
      ]
     },
     "execution_count": 11,
     "metadata": {},
     "output_type": "execute_result"
    }
   ],
   "source": [
    "data.drop('Unnamed: 0', axis=1, inplace=True)\n",
    "\n",
    "data"
   ]
  },
  {
   "cell_type": "code",
   "execution_count": 13,
   "id": "e1a68c83",
   "metadata": {},
   "outputs": [],
   "source": [
    "from sklearn.model_selection import train_test_split\n",
    "\n",
    "X, y = data['text'], data['code']\n",
    "\n",
    "X_train, X_test, y_train, y_test = train_test_split(X, y, test_size=0.33, random_state=42)\n"
   ]
  },
  {
   "cell_type": "code",
   "execution_count": 19,
   "id": "9e5604d2",
   "metadata": {},
   "outputs": [
    {
     "name": "stdout",
     "output_type": "stream",
     "text": [
      "<class 'pandas.core.series.Series'>\n"
     ]
    }
   ],
   "source": [
    "print(type(X_train))\n",
    "train = pd.DataFrame({\"text\": X_train, \"code\": y_train})\n",
    "test = pd.DataFrame({\"text\": X_test, \"code\": y_test})"
   ]
  },
  {
   "cell_type": "code",
   "execution_count": 20,
   "id": "ed6674a5",
   "metadata": {},
   "outputs": [],
   "source": [
    "train.to_csv(\"training.csv\", index=False)\n",
    "test.to_csv(\"testing.csv\", index=False)"
   ]
  }
 ],
 "metadata": {
  "kernelspec": {
   "display_name": "Python 3 (ipykernel)",
   "language": "python",
   "name": "python3"
  },
  "language_info": {
   "codemirror_mode": {
    "name": "ipython",
    "version": 3
   },
   "file_extension": ".py",
   "mimetype": "text/x-python",
   "name": "python",
   "nbconvert_exporter": "python",
   "pygments_lexer": "ipython3",
   "version": "3.9.16"
  }
 },
 "nbformat": 4,
 "nbformat_minor": 5
}
